{
 "cells": [
  {
   "cell_type": "code",
   "execution_count": 2,
   "metadata": {
    "collapsed": true
   },
   "outputs": [],
   "source": [
    "import os\n",
    "import subprocess"
   ]
  },
  {
   "cell_type": "code",
   "execution_count": 3,
   "metadata": {
    "collapsed": false
   },
   "outputs": [
    {
     "data": {
      "text/plain": [
       "<subprocess.Popen at 0x391eba8>"
      ]
     },
     "execution_count": 3,
     "metadata": {},
     "output_type": "execute_result"
    }
   ],
   "source": [
    "subprocess.Popen('sync.sh',shell=True)"
   ]
  },
  {
   "cell_type": "code",
   "execution_count": null,
   "metadata": {
    "collapsed": true
   },
   "outputs": [],
   "source": [
    "# -*- coding: utf-8 -*-\n",
    "\n",
    "\"\"\"\n",
    "Script Name : gitCommit.py\n",
    "Author      : LURUI\n",
    "Created\t    : 4 April 2016\n",
    "Version\t    : 1.0\n",
    "Description\t: This simple script is to commit and push changes of my project to GitHub automatically.\n",
    "\n",
    "\"\"\"\n",
    "\n",
    "\n",
    "import os\n",
    "import numpy as np\n",
    "import subprocess\n",
    "import time\n",
    "\n",
    "workDir = '../Grand/'\n",
    "os.chdir(workDir)\n",
    "commitNum = np.random.randint(3,21)\n",
    "fileType = ['.txt','.html','.md','.py']\n",
    "print 'the program will make %s commits today!' %(commitNum)\n",
    "for i in range(commitNum):\n",
    "    typeNum = np.random.randint(0,4)\n",
    "    fileName = np.random.randint(100,1000)\n",
    "    path = workDir+str(fileName)+fileType[typeNum]\n",
    "    with open(path,'wb') as code:\n",
    "        code.close()\n",
    "    print str(fileName)+fileType[typeNum]+' have been created!'\n",
    "    gitShell = subprocess.Popen(workDir+'sync.sh',shell=True)\n",
    "    print 'the new change is being commited and push, please wait a few seconds!'\n",
    "    if gitShell.wait() == 0:\n",
    "        os.remove(path)\n",
    "        print str(fileName)+fileType[typeNum]+' have been deleted!'\n",
    "print 'all changes have been committed!'\n",
    "raw_input('press Enter to exit!')"
   ]
  }
 ],
 "metadata": {
  "kernelspec": {
   "display_name": "Python 2",
   "language": "python",
   "name": "python2"
  },
  "language_info": {
   "codemirror_mode": {
    "name": "ipython",
    "version": 2
   },
   "file_extension": ".py",
   "mimetype": "text/x-python",
   "name": "python",
   "nbconvert_exporter": "python",
   "pygments_lexer": "ipython2",
   "version": "2.7.11"
  }
 },
 "nbformat": 4,
 "nbformat_minor": 0
}
